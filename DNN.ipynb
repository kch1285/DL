{
 "cells": [
  {
   "cell_type": "code",
   "execution_count": 55,
   "metadata": {},
   "outputs": [
    {
     "name": "stdout",
     "output_type": "stream",
     "text": [
      "[1,  2000] loss: 3.096\n",
      "[1,  4000] loss: 1.381\n",
      "[2,  2000] loss: 0.759\n",
      "[2,  4000] loss: 0.699\n",
      "[3,  2000] loss: 0.630\n",
      "[3,  4000] loss: 0.621\n",
      "[4,  2000] loss: 0.591\n",
      "[4,  4000] loss: 0.577\n",
      "[5,  2000] loss: 0.548\n",
      "[5,  4000] loss: 0.556\n",
      "[6,  2000] loss: 0.471\n",
      "[6,  4000] loss: 0.085\n",
      "[7,  2000] loss: 0.061\n",
      "[7,  4000] loss: 0.058\n",
      "[8,  2000] loss: 0.050\n",
      "[8,  4000] loss: 0.046\n",
      "[9,  2000] loss: 0.038\n",
      "[9,  4000] loss: 0.041\n",
      "[10,  2000] loss: 0.032\n",
      "[10,  4000] loss: 0.030\n",
      "Finished Training\n"
     ]
    }
   ],
   "source": [
    "import torch\n",
    "import numpy as np\n",
    "import torchvision\n",
    "import torchvision.transforms as transforms\n",
    "import matplotlib.pyplot as plt\n",
    "from torch import nn\n",
    "from torchvision import datasets\n",
    "\n",
    "batch_size = 12\n",
    "\n",
    "train_data = datasets.MNIST('D:\\datasets', train = True, download = True, transform = transforms.ToTensor())\n",
    "test_data = datasets.MNIST('D:\\datasets', train = False, download = True, transform = transforms.ToTensor())\n",
    "\n",
    "train_loader = torch.utils.data.DataLoader(train_data, batch_size = batch_size, shuffle = True)\n",
    "test_loader = torch.utils.data.DataLoader(test_data, batch_size = batch_size)\n",
    "\n",
    "\n",
    "class MLP(nn.Module):\n",
    "    def __init__(self, l_layer):\n",
    "        super(MLP, self).__init__()\n",
    "        self.l_layer = l_layer\n",
    "        layer_list = [nn.Linear(l_layer[i], l_layer[i+1]) for i in range(len(l_layer) - 1)]\n",
    "        self.l_layers = nn.ModuleList(layer_list)\n",
    "        \n",
    "        self.relu = nn.ReLU()\n",
    "        self.log_softmax = nn.LogSoftmax()\n",
    "\n",
    "    \n",
    "    def forward(self, x):\n",
    "        a = x.view(-1, 28 * 28)\n",
    "        for l in self.l_layers[:-1]:\n",
    "            a = self.relu(l(a))\n",
    "        return a\n",
    "    \n",
    "\n",
    "model = MLP([28 * 28, 512, 256, 128, 64, 10])\n",
    "#model = MLP()\n",
    "criterion = nn.CrossEntropyLoss()\n",
    "optimizer = torch.optim.SGD(model.parameters(), lr = 0.01)\n",
    "\n",
    "for epoch in range(10):\n",
    "    running_loss = 0.0\n",
    "    for i, data in enumerate(train_loader, 0):\n",
    "        inputs, labels = data\n",
    "        optimizer.zero_grad()\n",
    "        ouputs = model(inputs)\n",
    "        loss = criterion(ouputs, labels)\n",
    "        loss.backward()\n",
    "        optimizer.step()\n",
    "        \n",
    "        running_loss += loss.item()\n",
    "        if (i+1) % 2000 == 0:\n",
    "            print('[%d, %5d] loss: %.3f' % (epoch + 1, i + 1, running_loss / 2000))\n",
    "            running_loss = 0.0\n",
    "\n",
    "print('Finished Training')"
   ]
  },
  {
   "cell_type": "code",
   "execution_count": 56,
   "metadata": {},
   "outputs": [
    {
     "data": {
      "image/png": "[encoded data removed]",
      "text/plain": [
       "<Figure size 432x288 with 1 Axes>"
      ]
     },
     "metadata": {
      "needs_background": "light"
     },
     "output_type": "display_data"
    },
    {
     "name": "stdout",
     "output_type": "stream",
     "text": [
      "GroundTruth\n",
      "    7   2   1   0   4   1   4   9   5   9   0   6\n",
      "Prediction\n",
      "    7   2   1   0   4   1   4   9   5   9   0   6\n",
      "9771/10000\n",
      "Accuracy:  0.977\n"
     ]
    }
   ],
   "source": [
    "def imshow(img):\n",
    "    npimg = img.numpy()\n",
    "    plt.imshow(np.transpose(npimg, (1, 2, 0)))\n",
    "    plt.show()\n",
    "\n",
    "dataiter = iter(test_loader)\n",
    "images, labels = dataiter.next()\n",
    "\n",
    "imshow(torchvision.utils.make_grid(images, nrow = batch_size))\n",
    "print('GroundTruth')\n",
    "print(\"  \"+' '.join('%3s' % label.item() for label in labels))\n",
    "\n",
    "outputs = model(images)\n",
    "_, predicted = torch.max(outputs, 1)\n",
    "print(\"Prediction\")\n",
    "print(\"  \"+' '.join('%3s' % label.item() for label in predicted))\n",
    "\n",
    "n_predict = 0\n",
    "n_correct = 0\n",
    "\n",
    "for data in test_loader:\n",
    "    inputs, labels = data\n",
    "    outputs = model(inputs)\n",
    "    _, predicted = torch.max(outputs, 1)\n",
    "    \n",
    "    n_predict += len(predicted)\n",
    "    n_correct += (labels == predicted).sum()\n",
    "\n",
    "print(f\"{n_correct}/{n_predict}\")\n",
    "print(f\"Accuracy: {n_correct/n_predict: .3f}\")"
   ]
  },
  {
   "cell_type": "code",
   "execution_count": null,
   "metadata": {},
   "outputs": [],
   "source": []
  }
 ],
 "metadata": {
  "kernelspec": {
   "display_name": "Python 3",
   "language": "python",
   "name": "python3"
  },
  "language_info": {
   "codemirror_mode": {
    "name": "ipython",
    "version": 3
   },
   "file_extension": ".py",
   "mimetype": "text/x-python",
   "name": "python",
   "nbconvert_exporter": "python",
   "pygments_lexer": "ipython3",
   "version": "3.8.5"
  }
 },
 "nbformat": 4,
 "nbformat_minor": 4
}

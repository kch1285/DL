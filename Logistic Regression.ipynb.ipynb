{
 "cells": [
  {
   "cell_type": "code",
   "execution_count": 6,
   "metadata": {},
   "outputs": [
    {
     "output_type": "stream",
     "name": "stdout",
     "text": "0 0.8300824125041562\n100 1.793261234696321\n200 1.7931435389730495\n300 1.79314328533603\n400 1.79314328478947\n500 1.793143284788292\n600 1.793143284788288\n700 1.793143284788288\n800 1.793143284788288\n900 1.793143284788288\n1000 1.793143284788288\n1100 1.793143284788288\n1200 1.793143284788288\n1300 1.793143284788288\n1400 1.793143284788288\n1500 1.793143284788288\n1600 1.793143284788288\n1700 1.793143284788288\n1800 1.793143284788288\n1900 1.793143284788288\n2000 1.793143284788288\n2100 1.793143284788288\n2200 1.793143284788288\n2300 1.793143284788288\n2400 1.793143284788288\n2500 1.793143284788288\n2600 1.793143284788288\n2700 1.793143284788288\n2800 1.793143284788288\n2900 1.793143284788288\n3000 1.793143284788288\n3100 1.793143284788288\n3200 1.793143284788288\n3300 1.793143284788288\n3400 1.793143284788288\n3500 1.793143284788288\n3600 1.793143284788288\n3700 1.793143284788288\n3800 1.793143284788288\n3900 1.793143284788288\n4000 1.793143284788288\n4100 1.793143284788288\n4200 1.793143284788288\n4300 1.793143284788288\n4400 1.793143284788288\n4500 1.793143284788288\n4600 1.793143284788288\n4700 1.793143284788288\n4800 1.793143284788288\n4900 1.793143284788288\n5000 1.793143284788288\n5100 1.793143284788288\n5200 1.793143284788288\n5300 1.793143284788288\n5400 1.793143284788288\n5500 1.793143284788288\n5600 1.793143284788288\n5700 1.793143284788288\n5800 1.793143284788288\n5900 1.793143284788288\n6000 1.793143284788288\n6100 1.793143284788288\n6200 1.793143284788288\n6300 1.793143284788288\n6400 1.793143284788288\n6500 1.793143284788288\n6600 1.793143284788288\n6700 1.793143284788288\n6800 1.793143284788288\n6900 1.793143284788288\n7000 1.793143284788288\n7100 1.793143284788288\n7200 1.793143284788288\n7300 1.793143284788288\n7400 1.793143284788288\n7500 1.793143284788288\n7600 1.793143284788288\n7700 1.793143284788288\n7800 1.793143284788288\n7900 1.793143284788288\n8000 1.793143284788288\n8100 1.793143284788288\n8200 1.793143284788288\n8300 1.793143284788288\n8400 1.793143284788288\n8500 1.793143284788288\n8600 1.793143284788288\n8700 1.793143284788288\n8800 1.793143284788288\n8900 1.793143284788288\n9000 1.793143284788288\n9100 1.793143284788288\n9200 1.793143284788288\n9300 1.793143284788288\n9400 1.793143284788288\n9500 1.793143284788288\n9600 1.793143284788288\n9700 1.793143284788288\n9800 1.793143284788288\n9900 1.793143284788288\n"
    }
   ],
   "source": [
    "import numpy as np\n",
    "from math import exp, log\n",
    "\n",
    "X = np.array([[0, 0], [1, 0], [0, 1], [1, 1]])\n",
    "AND_Y = np.array([0, 0, 0, 1])\n",
    "OR_Y = np.array([0, 1, 1, 1])\n",
    "XOR_Y = np.array([0, 1, 1, 0])\n",
    "\n",
    "class logistic_regression_model():\n",
    "    def __init__(self):\n",
    "        self.w = np.random.normal(size = 2)\n",
    "        self.b = np.random.normal(size = 1)\n",
    "        \n",
    "    def sigmoid(self, z):\n",
    "        return 1/(1 + exp(-z))\n",
    "    \n",
    "    def predict(self, x):\n",
    "        z = np.inner(self.w, x) + self.b\n",
    "        a = self.sigmoid(z)\n",
    "        return a\n",
    "    \n",
    "model = logistic_regression_model()\n",
    "\n",
    "def train(X, Y, model, lr = 0.1):\n",
    "    dw = np.array([0.0, 0.0])\n",
    "    db = 0.0\n",
    "    m = len(X)\n",
    "    cost = 0.0\n",
    "    \n",
    "    for x, y in zip(X, Y):\n",
    "        a = model.predict(x)\n",
    "        if y == 1:\n",
    "            cost -= log(a)\n",
    "        else:\n",
    "            cost -= log(1-a)\n",
    "\n",
    "        dw += (a-y) * x\n",
    "        db += (a-y)\n",
    "    \n",
    "    cost /= m\n",
    "    model.w -= lr * dw / m\n",
    "    model.b -= lr * db / m\n",
    "    return cost\n",
    "    \n",
    "for epoch in range(10000):\n",
    "    cost = train(X, XOR_Y, model, 10)\n",
    "    if epoch % 100 == 0:\n",
    "        print(epoch, cost)"
   ]
  },
  {
   "cell_type": "code",
   "execution_count": 7,
   "metadata": {},
   "outputs": [
    {
     "output_type": "execute_result",
     "data": {
      "text/plain": "0.09094351922583378"
     },
     "metadata": {},
     "execution_count": 7
    }
   ],
   "source": [
    "model.predict((0,0))"
   ]
  },
  {
   "cell_type": "code",
   "execution_count": 8,
   "metadata": {},
   "outputs": [
    {
     "output_type": "execute_result",
     "data": {
      "text/plain": "0.02918454123187514"
     },
     "metadata": {},
     "execution_count": 8
    }
   ],
   "source": [
    "model.predict((0, 1))"
   ]
  },
  {
   "cell_type": "code",
   "execution_count": 9,
   "metadata": {},
   "outputs": [
    {
     "output_type": "execute_result",
     "data": {
      "text/plain": "0.02918454123187514"
     },
     "metadata": {},
     "execution_count": 9
    }
   ],
   "source": [
    "model.predict((1, 0))"
   ]
  },
  {
   "cell_type": "code",
   "execution_count": 10,
   "metadata": {},
   "outputs": [
    {
     "output_type": "execute_result",
     "data": {
      "text/plain": "0.008952533240479564"
     },
     "metadata": {},
     "execution_count": 10
    }
   ],
   "source": [
    "model.predict((1, 1))"
   ]
  },
  {
   "cell_type": "code",
   "execution_count": null,
   "metadata": {},
   "outputs": [],
   "source": []
  },
  {
   "cell_type": "code",
   "execution_count": null,
   "metadata": {},
   "outputs": [],
   "source": []
  }
 ],
 "metadata": {
  "kernelspec": {
   "display_name": "Python 3",
   "language": "python",
   "name": "python3"
  },
  "language_info": {
   "codemirror_mode": {
    "name": "ipython",
    "version": 3
   },
   "file_extension": ".py",
   "mimetype": "text/x-python",
   "name": "python",
   "nbconvert_exporter": "python",
   "pygments_lexer": "ipython3",
   "version": "3.8.5"
  }
 },
 "nbformat": 4,
 "nbformat_minor": 4
}